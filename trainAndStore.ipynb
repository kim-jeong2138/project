{
 "cells": [
  {
   "cell_type": "code",
   "execution_count": 1,
   "metadata": {},
   "outputs": [
    {
     "data": {
      "text/plain": [
       "15394"
      ]
     },
     "execution_count": 1,
     "metadata": {},
     "output_type": "execute_result"
    }
   ],
   "source": [
    "import numpy as np\n",
    "import pandas as pd\n",
    "import matplotlib.pyplot as plt\n",
    "\n",
    "data= pd.read_csv('./final.csv',sep = ',')\n",
    "data[\"class\"][0]\n",
    "len(data)"
   ]
  },
  {
   "cell_type": "code",
   "execution_count": 2,
   "metadata": {},
   "outputs": [
    {
     "data": {
      "text/plain": [
       "4"
      ]
     },
     "execution_count": 2,
     "metadata": {},
     "output_type": "execute_result"
    }
   ],
   "source": [
    "class_str=['(0 2)f', '(4 6)f', '(8 12)f', '(15 20)f', '(25 32)f', '(38 43)f', '(48 53)f', '(60 100)f',\n",
    "           '(0 2)m', '(4 6)m', '(8 12)m', '(15 20)m', '(25 32)m', '(38 43)m', '(48 53)m', '(60 100)m']\n",
    "class_str.index(data[\"class\"][0])"
   ]
  },
  {
   "cell_type": "code",
   "execution_count": 3,
   "metadata": {},
   "outputs": [
    {
     "data": {
      "text/plain": [
       "(31, 'C:/Users/gram/Desktop/face_img\\\\1.10152675314_02d5855224_o.jpg')"
      ]
     },
     "execution_count": 3,
     "metadata": {},
     "output_type": "execute_result"
    }
   ],
   "source": [
    "folder_root=\"C:/Users/gram/Desktop/face_img/\"\n",
    "train= folder_root + '*.jpg'#이미지파일 불러오기\n",
    "\n",
    "from PIL import Image\n",
    "import numpy as np\n",
    "import glob\n",
    "train_path=glob.glob(train)\n",
    "train_path[0].index('1'), train_path[0]"
   ]
  },
  {
   "cell_type": "code",
   "execution_count": 4,
   "metadata": {},
   "outputs": [],
   "source": [
    "def parse_folder(folder, n):\n",
    "    train_path=glob.glob(folder)\n",
    "    \n",
    "    list_x=[]\n",
    "    list_y=[]\n",
    "    \n",
    "    for i in range(n):\n",
    "        img_path= train_path[i]\n",
    "        img= Image.open(img_path)\n",
    "        img=img.resize((256,256))\n",
    "        \n",
    "        img_name=img_path[31:]\n",
    "        j=0\n",
    "        for j in range(len(data)):\n",
    "            if img_name==data.img_name[j]:\n",
    "                #print(img_name)\n",
    "                \n",
    "                arr=np.array(img)\n",
    "                list_x.append(arr)\n",
    "                \n",
    "                label= data['class'][j]\n",
    "                label_index=class_str.index(label)\n",
    "                list_y.append(label_index)\n",
    "                #print(label)\n",
    "                \n",
    "            else: continue\n",
    "        \n",
    "    return np.array(list_x), np.array(list_y)\n"
   ]
  },
  {
   "cell_type": "code",
   "execution_count": 5,
   "metadata": {},
   "outputs": [
    {
     "data": {
      "text/plain": [
       "((2072, 256, 256, 3), (2072,))"
      ]
     },
     "execution_count": 5,
     "metadata": {},
     "output_type": "execute_result"
    }
   ],
   "source": [
    "n=3000 #19365로 돌려야하는데 자꾸 멈춤,, \n",
    "x, y= parse_folder(train, n)\n",
    "x.shape, y.shape"
   ]
  },
  {
   "cell_type": "code",
   "execution_count": 6,
   "metadata": {},
   "outputs": [
    {
     "data": {
      "text/plain": [
       "((1657, 256, 256, 3),\n",
       " (1325, 256, 256, 3),\n",
       " (332, 256, 256, 3),\n",
       " (1657,),\n",
       " (1325,),\n",
       " (332,))"
      ]
     },
     "execution_count": 6,
     "metadata": {},
     "output_type": "execute_result"
    }
   ],
   "source": [
    "import sklearn\n",
    "from sklearn.model_selection import train_test_split\n",
    "\n",
    "x_train_all, x_test, y_train_all, y_test = train_test_split(x, y, stratify=y, test_size=0.2, random_state=42)\n",
    "\n",
    "x_train, x_val, y_train, y_val =train_test_split(x_train_all, y_train_all, stratify=y_train_all, test_size=0.2, random_state=42)\n",
    "x_train_all.shape, x_train.shape, x_val.shape, y_train_all.shape, y_train.shape, y_val.shape"
   ]
  },
  {
   "cell_type": "code",
   "execution_count": 7,
   "metadata": {},
   "outputs": [
    {
     "data": {
      "text/plain": [
       "((1325, 256, 256, 3), (332, 256, 256, 3))"
      ]
     },
     "execution_count": 7,
     "metadata": {},
     "output_type": "execute_result"
    }
   ],
   "source": [
    "import matplotlib.pyplot as plt\n",
    "import numpy as np\n",
    "import os \n",
    "import PIL\n",
    "import tensorflow as tf\n",
    "\n",
    "from tensorflow.keras import datasets, layers, models\n",
    "from tensorflow.keras.layers import Conv2D, MaxPooling2D, Flatten, Dense\n",
    "from tensorflow.keras.layers import Dropout\n",
    "from tensorflow.keras.models import Sequential\n",
    "\n",
    "y_train_encoded =tf.keras.utils.to_categorical(y_train)\n",
    "y_val_encoded= tf.keras.utils.to_categorical(y_val)\n",
    "\n",
    "x_train= x_train.reshape(-1,256,256,3)\n",
    "x_val=x_val.reshape(-1,256,256,3)\n",
    "\n",
    "x_train= x_train/255\n",
    "x_val=x_val/255\n",
    "\n",
    "x_train.shape, x_val.shape"
   ]
  },
  {
   "cell_type": "code",
   "execution_count": 8,
   "metadata": {
    "scrolled": true
   },
   "outputs": [
    {
     "name": "stdout",
     "output_type": "stream",
     "text": [
      "Model: \"sequential\"\n",
      "_________________________________________________________________\n",
      "Layer (type)                 Output Shape              Param #   \n",
      "=================================================================\n",
      "conv2d (Conv2D)              (None, 256, 256, 32)      896       \n",
      "_________________________________________________________________\n",
      "max_pooling2d (MaxPooling2D) (None, 128, 128, 32)      0         \n",
      "_________________________________________________________________\n",
      "conv2d_1 (Conv2D)            (None, 126, 126, 64)      18496     \n",
      "_________________________________________________________________\n",
      "max_pooling2d_1 (MaxPooling2 (None, 63, 63, 64)        0         \n",
      "_________________________________________________________________\n",
      "conv2d_2 (Conv2D)            (None, 61, 61, 64)        36928     \n",
      "_________________________________________________________________\n",
      "flatten (Flatten)            (None, 238144)            0         \n",
      "_________________________________________________________________\n",
      "dropout (Dropout)            (None, 238144)            0         \n",
      "_________________________________________________________________\n",
      "dense (Dense)                (None, 64)                15241280  \n",
      "_________________________________________________________________\n",
      "dense_1 (Dense)              (None, 16)                1040      \n",
      "=================================================================\n",
      "Total params: 15,298,640\n",
      "Trainable params: 15,298,640\n",
      "Non-trainable params: 0\n",
      "_________________________________________________________________\n",
      "None\n"
     ]
    }
   ],
   "source": [
    "conv2= tf.keras.Sequential()\n",
    "#합성곱층\n",
    "conv2.add(Conv2D(32,(3,3), activation='relu', padding='same', input_shape=(256,256,3)))#합성곱층 쌓기\n",
    "conv2.add(MaxPooling2D((2,2)))#폴링층 \n",
    "conv2.add(Conv2D(64,(3,3), activation='relu'))\n",
    "conv2.add(MaxPooling2D((2,2)))\n",
    "conv2.add(Conv2D(64,(3,3), activation='relu'))\n",
    "#dense층\n",
    "conv2.add(Flatten())\n",
    "conv2.add(Dropout(0.2))#드롭아웃\n",
    "conv2.add(Dense(64,activation='relu'))\n",
    "conv2.add(Dense(16,activation='softmax'))#16개 출력\n",
    "\n",
    "print(conv2.summary())"
   ]
  },
  {
   "cell_type": "code",
   "execution_count": 9,
   "metadata": {
    "scrolled": true
   },
   "outputs": [
    {
     "name": "stdout",
     "output_type": "stream",
     "text": [
      "Epoch 1/100\n",
      "42/42 [==============================] - 108s 3s/step - loss: 3.1545 - accuracy: 0.2408 - val_loss: 2.5641 - val_accuracy: 0.2741\n",
      "Epoch 2/100\n",
      "42/42 [==============================] - 108s 3s/step - loss: 2.3599 - accuracy: 0.2981 - val_loss: 2.4708 - val_accuracy: 0.3133\n",
      "Epoch 3/100\n",
      "42/42 [==============================] - 108s 3s/step - loss: 1.9593 - accuracy: 0.3977 - val_loss: 2.2549 - val_accuracy: 0.3614\n",
      "Epoch 4/100\n",
      "42/42 [==============================] - 116s 3s/step - loss: 1.2439 - accuracy: 0.6287 - val_loss: 2.6135 - val_accuracy: 0.2982\n",
      "Epoch 5/100\n",
      "42/42 [==============================] - 125s 3s/step - loss: 0.5640 - accuracy: 0.8355 - val_loss: 3.7231 - val_accuracy: 0.3524\n",
      "Epoch 6/100\n",
      "42/42 [==============================] - 123s 3s/step - loss: 0.3472 - accuracy: 0.9177 - val_loss: 3.6735 - val_accuracy: 0.3193\n",
      "Epoch 7/100\n",
      "42/42 [==============================] - 131s 3s/step - loss: 0.2516 - accuracy: 0.9479 - val_loss: 4.1218 - val_accuracy: 0.3163\n",
      "Epoch 8/100\n",
      "42/42 [==============================] - 112s 3s/step - loss: 0.2013 - accuracy: 0.9728 - val_loss: 4.9407 - val_accuracy: 0.3072\n",
      "Epoch 9/100\n",
      "42/42 [==============================] - 112s 3s/step - loss: 0.1632 - accuracy: 0.9789 - val_loss: 4.2093 - val_accuracy: 0.2922\n",
      "Epoch 10/100\n",
      "42/42 [==============================] - 111s 3s/step - loss: 0.1356 - accuracy: 0.9789 - val_loss: 5.4134 - val_accuracy: 0.3313\n",
      "Epoch 11/100\n",
      "42/42 [==============================] - 111s 3s/step - loss: 0.1198 - accuracy: 0.9849 - val_loss: 4.7827 - val_accuracy: 0.3283\n",
      "Epoch 12/100\n",
      "42/42 [==============================] - 111s 3s/step - loss: 0.0750 - accuracy: 0.9887 - val_loss: 4.9386 - val_accuracy: 0.3133\n",
      "Epoch 13/100\n",
      "42/42 [==============================] - 112s 3s/step - loss: 0.0834 - accuracy: 0.9857 - val_loss: 5.2725 - val_accuracy: 0.3404\n",
      "Epoch 14/100\n",
      "42/42 [==============================] - 112s 3s/step - loss: 0.0753 - accuracy: 0.9879 - val_loss: 4.5117 - val_accuracy: 0.3434\n",
      "Epoch 15/100\n",
      "42/42 [==============================] - 113s 3s/step - loss: 0.0487 - accuracy: 0.9894 - val_loss: 4.5651 - val_accuracy: 0.3614\n",
      "Epoch 16/100\n",
      "42/42 [==============================] - 112s 3s/step - loss: 0.0651 - accuracy: 0.9917 - val_loss: 4.3578 - val_accuracy: 0.3554\n",
      "Epoch 17/100\n",
      "42/42 [==============================] - 113s 3s/step - loss: 0.0569 - accuracy: 0.9894 - val_loss: 4.7007 - val_accuracy: 0.3614\n",
      "Epoch 18/100\n",
      "42/42 [==============================] - 114s 3s/step - loss: 0.0637 - accuracy: 0.9894 - val_loss: 5.1387 - val_accuracy: 0.3765\n",
      "Epoch 19/100\n",
      "42/42 [==============================] - 115s 3s/step - loss: 0.0591 - accuracy: 0.9887 - val_loss: 4.3542 - val_accuracy: 0.3223\n",
      "Epoch 20/100\n",
      "42/42 [==============================] - 109s 3s/step - loss: 0.0612 - accuracy: 0.9902 - val_loss: 4.2487 - val_accuracy: 0.3675\n",
      "Epoch 21/100\n",
      "42/42 [==============================] - 110s 3s/step - loss: 0.0346 - accuracy: 0.9917 - val_loss: 4.2359 - val_accuracy: 0.3765\n",
      "Epoch 22/100\n",
      "42/42 [==============================] - 110s 3s/step - loss: 0.0404 - accuracy: 0.9917 - val_loss: 4.4148 - val_accuracy: 0.3765\n",
      "Epoch 23/100\n",
      "42/42 [==============================] - 110s 3s/step - loss: 0.0471 - accuracy: 0.9909 - val_loss: 4.6701 - val_accuracy: 0.3855\n",
      "Epoch 24/100\n",
      "42/42 [==============================] - 110s 3s/step - loss: 0.0656 - accuracy: 0.9887 - val_loss: 4.1790 - val_accuracy: 0.3584\n",
      "Epoch 25/100\n",
      "42/42 [==============================] - 110s 3s/step - loss: 0.0452 - accuracy: 0.9894 - val_loss: 4.2265 - val_accuracy: 0.3404\n",
      "Epoch 26/100\n",
      "42/42 [==============================] - 110s 3s/step - loss: 0.0399 - accuracy: 0.9902 - val_loss: 4.1465 - val_accuracy: 0.3524\n",
      "Epoch 27/100\n",
      "42/42 [==============================] - 110s 3s/step - loss: 0.0296 - accuracy: 0.9917 - val_loss: 4.3173 - val_accuracy: 0.3494\n",
      "Epoch 28/100\n",
      "42/42 [==============================] - 110s 3s/step - loss: 0.0384 - accuracy: 0.9887 - val_loss: 4.3178 - val_accuracy: 0.3524\n",
      "Epoch 29/100\n",
      "42/42 [==============================] - 136s 3s/step - loss: 0.0363 - accuracy: 0.9902 - val_loss: 4.3649 - val_accuracy: 0.3524\n",
      "Epoch 30/100\n",
      "42/42 [==============================] - 112s 3s/step - loss: 0.0492 - accuracy: 0.9909 - val_loss: 3.8753 - val_accuracy: 0.3373\n",
      "Epoch 31/100\n",
      "42/42 [==============================] - 112s 3s/step - loss: 0.0341 - accuracy: 0.9902 - val_loss: 4.1915 - val_accuracy: 0.3614\n",
      "Epoch 32/100\n",
      "42/42 [==============================] - 112s 3s/step - loss: 0.0315 - accuracy: 0.9879 - val_loss: 3.9207 - val_accuracy: 0.3494\n",
      "Epoch 33/100\n",
      "42/42 [==============================] - 110s 3s/step - loss: 0.0329 - accuracy: 0.9887 - val_loss: 3.6926 - val_accuracy: 0.3404\n",
      "Epoch 34/100\n",
      "42/42 [==============================] - 111s 3s/step - loss: 0.0271 - accuracy: 0.9902 - val_loss: 3.8898 - val_accuracy: 0.3524\n",
      "Epoch 35/100\n",
      "42/42 [==============================] - 111s 3s/step - loss: 0.0234 - accuracy: 0.9917 - val_loss: 4.1119 - val_accuracy: 0.3614\n",
      "Epoch 36/100\n",
      "42/42 [==============================] - 111s 3s/step - loss: 0.0329 - accuracy: 0.9909 - val_loss: 3.9058 - val_accuracy: 0.3464\n",
      "Epoch 37/100\n",
      "42/42 [==============================] - 111s 3s/step - loss: 0.0280 - accuracy: 0.9902 - val_loss: 3.8127 - val_accuracy: 0.3554\n",
      "Epoch 38/100\n",
      "42/42 [==============================] - 110s 3s/step - loss: 0.0241 - accuracy: 0.9909 - val_loss: 4.3181 - val_accuracy: 0.3645\n",
      "Epoch 39/100\n",
      "42/42 [==============================] - 111s 3s/step - loss: 0.0278 - accuracy: 0.9894 - val_loss: 3.9247 - val_accuracy: 0.3645\n",
      "Epoch 40/100\n",
      "42/42 [==============================] - 111s 3s/step - loss: 0.0239 - accuracy: 0.9887 - val_loss: 3.7865 - val_accuracy: 0.3554\n",
      "Epoch 41/100\n",
      "42/42 [==============================] - 110s 3s/step - loss: 0.0244 - accuracy: 0.9909 - val_loss: 4.0416 - val_accuracy: 0.3584\n",
      "Epoch 42/100\n",
      "42/42 [==============================] - 113s 3s/step - loss: 0.0248 - accuracy: 0.9887 - val_loss: 3.8540 - val_accuracy: 0.3584\n",
      "Epoch 43/100\n",
      "42/42 [==============================] - 110s 3s/step - loss: 0.0211 - accuracy: 0.9902 - val_loss: 4.0207 - val_accuracy: 0.3584\n",
      "Epoch 44/100\n",
      "42/42 [==============================] - 112s 3s/step - loss: 0.0194 - accuracy: 0.9902 - val_loss: 3.8526 - val_accuracy: 0.3494\n",
      "Epoch 45/100\n",
      "42/42 [==============================] - 111s 3s/step - loss: 0.0197 - accuracy: 0.9909 - val_loss: 3.9657 - val_accuracy: 0.3675\n",
      "Epoch 46/100\n",
      "42/42 [==============================] - 111s 3s/step - loss: 0.0210 - accuracy: 0.9902 - val_loss: 3.7965 - val_accuracy: 0.3554\n",
      "Epoch 47/100\n",
      "42/42 [==============================] - 112s 3s/step - loss: 0.0175 - accuracy: 0.9902 - val_loss: 4.1226 - val_accuracy: 0.3584\n",
      "Epoch 48/100\n",
      "42/42 [==============================] - 112s 3s/step - loss: 0.0272 - accuracy: 0.9894 - val_loss: 3.6101 - val_accuracy: 0.3554\n",
      "Epoch 49/100\n",
      "42/42 [==============================] - 112s 3s/step - loss: 0.0204 - accuracy: 0.9894 - val_loss: 4.0570 - val_accuracy: 0.3554\n",
      "Epoch 50/100\n",
      "42/42 [==============================] - 112s 3s/step - loss: 0.0206 - accuracy: 0.9902 - val_loss: 4.0865 - val_accuracy: 0.3554\n",
      "Epoch 51/100\n",
      "42/42 [==============================] - 111s 3s/step - loss: 0.0246 - accuracy: 0.9894 - val_loss: 4.0721 - val_accuracy: 0.3464\n",
      "Epoch 52/100\n",
      "42/42 [==============================] - 127s 3s/step - loss: 0.0288 - accuracy: 0.9894 - val_loss: 4.4128 - val_accuracy: 0.3072\n",
      "Epoch 53/100\n",
      "42/42 [==============================] - 141s 3s/step - loss: 0.0293 - accuracy: 0.9887 - val_loss: 4.3153 - val_accuracy: 0.3072\n",
      "Epoch 54/100\n",
      "42/42 [==============================] - 125s 3s/step - loss: 0.0302 - accuracy: 0.9902 - val_loss: 4.4417 - val_accuracy: 0.3283\n",
      "Epoch 55/100\n",
      "42/42 [==============================] - 130s 3s/step - loss: 0.0200 - accuracy: 0.9902 - val_loss: 4.5278 - val_accuracy: 0.3072\n",
      "Epoch 56/100\n",
      "42/42 [==============================] - 126s 3s/step - loss: 0.0240 - accuracy: 0.9894 - val_loss: 4.6496 - val_accuracy: 0.2952\n",
      "Epoch 57/100\n",
      "42/42 [==============================] - 126s 3s/step - loss: 0.0235 - accuracy: 0.9902 - val_loss: 4.6827 - val_accuracy: 0.3313\n",
      "Epoch 58/100\n"
     ]
    },
    {
     "name": "stdout",
     "output_type": "stream",
     "text": [
      "42/42 [==============================] - 113s 3s/step - loss: 0.0353 - accuracy: 0.9909 - val_loss: 4.0639 - val_accuracy: 0.2892\n",
      "Epoch 59/100\n",
      "42/42 [==============================] - 112s 3s/step - loss: 0.0273 - accuracy: 0.9894 - val_loss: 5.0708 - val_accuracy: 0.3494\n",
      "Epoch 60/100\n",
      "42/42 [==============================] - 114s 3s/step - loss: 0.0218 - accuracy: 0.9902 - val_loss: 4.1754 - val_accuracy: 0.3042\n",
      "Epoch 61/100\n",
      "42/42 [==============================] - 112s 3s/step - loss: 0.0295 - accuracy: 0.9902 - val_loss: 5.1265 - val_accuracy: 0.3042\n",
      "Epoch 62/100\n",
      "42/42 [==============================] - 111s 3s/step - loss: 0.0231 - accuracy: 0.9887 - val_loss: 4.9266 - val_accuracy: 0.3283\n",
      "Epoch 63/100\n",
      "42/42 [==============================] - 111s 3s/step - loss: 0.0216 - accuracy: 0.9902 - val_loss: 4.5719 - val_accuracy: 0.3133\n",
      "Epoch 64/100\n",
      "42/42 [==============================] - 111s 3s/step - loss: 0.0163 - accuracy: 0.9902 - val_loss: 4.8289 - val_accuracy: 0.2922\n",
      "Epoch 65/100\n",
      "42/42 [==============================] - 111s 3s/step - loss: 0.0172 - accuracy: 0.9872 - val_loss: 4.5039 - val_accuracy: 0.3253\n",
      "Epoch 66/100\n",
      "42/42 [==============================] - 112s 3s/step - loss: 0.0184 - accuracy: 0.9909 - val_loss: 4.3175 - val_accuracy: 0.3253\n",
      "Epoch 67/100\n",
      "42/42 [==============================] - 112s 3s/step - loss: 0.0144 - accuracy: 0.9909 - val_loss: 4.5287 - val_accuracy: 0.3343\n",
      "Epoch 68/100\n",
      "42/42 [==============================] - 113s 3s/step - loss: 0.0136 - accuracy: 0.9932 - val_loss: 4.4856 - val_accuracy: 0.3373\n",
      "Epoch 69/100\n",
      "42/42 [==============================] - 112s 3s/step - loss: 0.0152 - accuracy: 0.9902 - val_loss: 4.5642 - val_accuracy: 0.3313\n",
      "Epoch 70/100\n",
      "42/42 [==============================] - 111s 3s/step - loss: 0.0147 - accuracy: 0.9909 - val_loss: 4.5545 - val_accuracy: 0.3343\n",
      "Epoch 71/100\n",
      "42/42 [==============================] - 110s 3s/step - loss: 0.0190 - accuracy: 0.9909 - val_loss: 4.5635 - val_accuracy: 0.3343\n",
      "Epoch 72/100\n",
      "42/42 [==============================] - 110s 3s/step - loss: 0.0166 - accuracy: 0.9917 - val_loss: 4.1770 - val_accuracy: 0.3102\n",
      "Epoch 73/100\n",
      "42/42 [==============================] - 110s 3s/step - loss: 0.0140 - accuracy: 0.9894 - val_loss: 4.6506 - val_accuracy: 0.3313\n",
      "Epoch 74/100\n",
      "42/42 [==============================] - 111s 3s/step - loss: 0.0134 - accuracy: 0.9902 - val_loss: 4.6887 - val_accuracy: 0.3283\n",
      "Epoch 75/100\n",
      "42/42 [==============================] - 112s 3s/step - loss: 0.0144 - accuracy: 0.9909 - val_loss: 4.9128 - val_accuracy: 0.3373\n",
      "Epoch 76/100\n",
      "42/42 [==============================] - 112s 3s/step - loss: 0.0124 - accuracy: 0.9894 - val_loss: 4.6331 - val_accuracy: 0.3313\n",
      "Epoch 77/100\n",
      "42/42 [==============================] - 112s 3s/step - loss: 0.0138 - accuracy: 0.9902 - val_loss: 4.5427 - val_accuracy: 0.3343\n",
      "Epoch 78/100\n",
      "42/42 [==============================] - 112s 3s/step - loss: 0.0123 - accuracy: 0.9909 - val_loss: 4.8823 - val_accuracy: 0.3343\n",
      "Epoch 79/100\n",
      "42/42 [==============================] - 111s 3s/step - loss: 0.0138 - accuracy: 0.9909 - val_loss: 4.7150 - val_accuracy: 0.3313\n",
      "Epoch 80/100\n",
      "42/42 [==============================] - 112s 3s/step - loss: 0.0133 - accuracy: 0.9917 - val_loss: 4.7503 - val_accuracy: 0.3373\n",
      "Epoch 81/100\n",
      "42/42 [==============================] - 110s 3s/step - loss: 0.0130 - accuracy: 0.9925 - val_loss: 4.7148 - val_accuracy: 0.3434\n",
      "Epoch 82/100\n",
      "42/42 [==============================] - 110s 3s/step - loss: 0.0129 - accuracy: 0.9917 - val_loss: 4.7778 - val_accuracy: 0.3373\n",
      "Epoch 83/100\n",
      "42/42 [==============================] - 110s 3s/step - loss: 0.0130 - accuracy: 0.9925 - val_loss: 4.6237 - val_accuracy: 0.3283\n",
      "Epoch 84/100\n",
      "42/42 [==============================] - 112s 3s/step - loss: 0.0129 - accuracy: 0.9894 - val_loss: 4.7635 - val_accuracy: 0.3373\n",
      "Epoch 85/100\n",
      "42/42 [==============================] - 112s 3s/step - loss: 0.0137 - accuracy: 0.9902 - val_loss: 4.6206 - val_accuracy: 0.3223\n",
      "Epoch 86/100\n",
      "42/42 [==============================] - 111s 3s/step - loss: 0.0132 - accuracy: 0.9925 - val_loss: 4.7406 - val_accuracy: 0.3434\n",
      "Epoch 87/100\n",
      "42/42 [==============================] - 112s 3s/step - loss: 0.0125 - accuracy: 0.9894 - val_loss: 4.8884 - val_accuracy: 0.3434\n",
      "Epoch 88/100\n",
      "42/42 [==============================] - 112s 3s/step - loss: 0.0134 - accuracy: 0.9894 - val_loss: 4.6917 - val_accuracy: 0.3253\n",
      "Epoch 89/100\n",
      "42/42 [==============================] - 111s 3s/step - loss: 0.0128 - accuracy: 0.9932 - val_loss: 4.7465 - val_accuracy: 0.3434\n",
      "Epoch 90/100\n",
      "42/42 [==============================] - 110s 3s/step - loss: 0.0122 - accuracy: 0.9909 - val_loss: 4.9785 - val_accuracy: 0.3404\n",
      "Epoch 91/100\n",
      "42/42 [==============================] - 115s 3s/step - loss: 0.0124 - accuracy: 0.9909 - val_loss: 4.8025 - val_accuracy: 0.3313\n",
      "Epoch 92/100\n",
      "42/42 [==============================] - 110s 3s/step - loss: 0.0130 - accuracy: 0.9917 - val_loss: 4.7003 - val_accuracy: 0.3283\n",
      "Epoch 93/100\n",
      "42/42 [==============================] - 111s 3s/step - loss: 0.0154 - accuracy: 0.9932 - val_loss: 4.8601 - val_accuracy: 0.3373\n",
      "Epoch 94/100\n",
      "42/42 [==============================] - 112s 3s/step - loss: 0.0134 - accuracy: 0.9909 - val_loss: 4.7388 - val_accuracy: 0.3223\n",
      "Epoch 95/100\n",
      "42/42 [==============================] - 121s 3s/step - loss: 0.0155 - accuracy: 0.9925 - val_loss: 4.4840 - val_accuracy: 0.3313\n",
      "Epoch 96/100\n",
      "42/42 [==============================] - 114s 3s/step - loss: 0.0125 - accuracy: 0.9902 - val_loss: 4.8424 - val_accuracy: 0.3193\n",
      "Epoch 97/100\n",
      "42/42 [==============================] - 112s 3s/step - loss: 0.0124 - accuracy: 0.9917 - val_loss: 4.7910 - val_accuracy: 0.3193\n",
      "Epoch 98/100\n",
      "42/42 [==============================] - 112s 3s/step - loss: 0.0124 - accuracy: 0.9894 - val_loss: 4.9610 - val_accuracy: 0.3283\n",
      "Epoch 99/100\n",
      "42/42 [==============================] - 111s 3s/step - loss: 0.0128 - accuracy: 0.9917 - val_loss: 5.0645 - val_accuracy: 0.3404\n",
      "Epoch 100/100\n",
      "42/42 [==============================] - 110s 3s/step - loss: 0.0114 - accuracy: 0.9925 - val_loss: 5.0264 - val_accuracy: 0.3253\n"
     ]
    }
   ],
   "source": [
    "conv2.compile(optimizer='adam', loss='categorical_crossentropy', metrics=['accuracy'])\n",
    "history1= conv2.fit(x_train, y_train_encoded, epochs=100, validation_data=(x_val,y_val_encoded))"
   ]
  },
  {
   "cell_type": "code",
   "execution_count": 11,
   "metadata": {},
   "outputs": [],
   "source": [
    "from keras.models import load_model\n",
    "conv2.save('model.h5')"
   ]
  },
  {
   "cell_type": "code",
   "execution_count": 59,
   "metadata": {},
   "outputs": [
    {
     "data": {
      "image/png": "[encoded data removed]",
      "text/plain": [
       "<Figure size 432x288 with 1 Axes>"
      ]
     },
     "metadata": {
      "needs_background": "light"
     },
     "output_type": "display_data"
    },
    {
     "data": {
      "image/png": "[encoded data removed]",
      "text/plain": [
       "<Figure size 432x288 with 1 Axes>"
      ]
     },
     "metadata": {
      "needs_background": "light"
     },
     "output_type": "display_data"
    }
   ],
   "source": [
    "#손실그래프\n",
    "plt.plot(history1.history['loss'])\n",
    "#plt.plot(history1.history['val_loss'])\n",
    "plt.ylabel('loss')\n",
    "plt.xlabel('epoch')\n",
    "plt.legend(['train_loss', 'val_loss'])\n",
    "plt.show()\n",
    "#정확도 그래프\n",
    "plt.plot(history1.history['accuracy'])\n",
    "#plt.plot(history1.history['val_accuracy'])\n",
    "plt.ylabel('loss')\n",
    "plt.xlabel('epoch')\n",
    "plt.legend(['train_accuracy', 'val_accuracy'])\n",
    "plt.show()"
   ]
  },
  {
   "cell_type": "code",
   "execution_count": 13,
   "metadata": {},
   "outputs": [
    {
     "name": "stdout",
     "output_type": "stream",
     "text": [
      "42/42 - 29s - loss: 0.0108 - accuracy: 0.9932\n",
      "0.993207573890686\n"
     ]
    }
   ],
   "source": [
    "loss, accuracy =conv2.evaluate(x_train, y_train_encoded, verbose=2)\n",
    "print(accuracy)"
   ]
  },
  {
   "cell_type": "code",
   "execution_count": 14,
   "metadata": {},
   "outputs": [
    {
     "name": "stdout",
     "output_type": "stream",
     "text": [
      "('Failed to import pydot. You must `pip install pydot` and install graphviz (https://graphviz.gitlab.io/download/), ', 'for `pydotprint` to work.')\n"
     ]
    },
    {
     "ename": "AttributeError",
     "evalue": "'NoneType' object has no attribute 'create'",
     "output_type": "error",
     "traceback": [
      "\u001b[1;31m---------------------------------------------------------------------------\u001b[0m",
      "\u001b[1;31mAttributeError\u001b[0m                            Traceback (most recent call last)",
      "\u001b[1;32m<ipython-input-14-fd4237c2c00b>\u001b[0m in \u001b[0;36m<module>\u001b[1;34m\u001b[0m\n\u001b[0;32m      4\u001b[0m \u001b[0mget_ipython\u001b[0m\u001b[1;33m(\u001b[0m\u001b[1;33m)\u001b[0m\u001b[1;33m.\u001b[0m\u001b[0mrun_line_magic\u001b[0m\u001b[1;33m(\u001b[0m\u001b[1;34m'matplotlib'\u001b[0m\u001b[1;33m,\u001b[0m \u001b[1;34m'inline'\u001b[0m\u001b[1;33m)\u001b[0m\u001b[1;33m\u001b[0m\u001b[1;33m\u001b[0m\u001b[0m\n\u001b[0;32m      5\u001b[0m \u001b[1;33m\u001b[0m\u001b[0m\n\u001b[1;32m----> 6\u001b[1;33m \u001b[0mSVG\u001b[0m\u001b[1;33m(\u001b[0m\u001b[0mmodel_to_dot\u001b[0m\u001b[1;33m(\u001b[0m\u001b[0mconv2\u001b[0m\u001b[1;33m,\u001b[0m \u001b[0mshow_shapes\u001b[0m\u001b[1;33m=\u001b[0m\u001b[1;32mTrue\u001b[0m\u001b[1;33m)\u001b[0m\u001b[1;33m.\u001b[0m\u001b[0mcreate\u001b[0m\u001b[1;33m(\u001b[0m\u001b[0mprog\u001b[0m\u001b[1;33m=\u001b[0m\u001b[1;34m'dot'\u001b[0m\u001b[1;33m,\u001b[0m \u001b[0mformat\u001b[0m\u001b[1;33m=\u001b[0m\u001b[1;34m'svg'\u001b[0m\u001b[1;33m)\u001b[0m\u001b[1;33m)\u001b[0m\u001b[1;33m\u001b[0m\u001b[1;33m\u001b[0m\u001b[0m\n\u001b[0m",
      "\u001b[1;31mAttributeError\u001b[0m: 'NoneType' object has no attribute 'create'"
     ]
    }
   ],
   "source": [
    "from IPython.display import SVG\n",
    "from keras.utils.vis_utils import model_to_dot\n",
    "\n",
    "%matplotlib inline\n",
    "\n",
    "SVG(model_to_dot(conv2, show_shapes=True).create(prog='dot', format='svg'))"
   ]
  },
  {
   "cell_type": "code",
   "execution_count": 15,
   "metadata": {},
   "outputs": [],
   "source": [
    "from keras.models import load_model\n",
    "model = load_model('model.h5')"
   ]
  },
  {
   "cell_type": "code",
   "execution_count": 17,
   "metadata": {},
   "outputs": [
    {
     "name": "stdout",
     "output_type": "stream",
     "text": [
      "Model: \"sequential\"\n",
      "_________________________________________________________________\n",
      "Layer (type)                 Output Shape              Param #   \n",
      "=================================================================\n",
      "conv2d (Conv2D)              (None, 256, 256, 32)      896       \n",
      "_________________________________________________________________\n",
      "max_pooling2d (MaxPooling2D) (None, 128, 128, 32)      0         \n",
      "_________________________________________________________________\n",
      "conv2d_1 (Conv2D)            (None, 126, 126, 64)      18496     \n",
      "_________________________________________________________________\n",
      "max_pooling2d_1 (MaxPooling2 (None, 63, 63, 64)        0         \n",
      "_________________________________________________________________\n",
      "conv2d_2 (Conv2D)            (None, 61, 61, 64)        36928     \n",
      "_________________________________________________________________\n",
      "flatten (Flatten)            (None, 238144)            0         \n",
      "_________________________________________________________________\n",
      "dropout (Dropout)            (None, 238144)            0         \n",
      "_________________________________________________________________\n",
      "dense (Dense)                (None, 64)                15241280  \n",
      "_________________________________________________________________\n",
      "dense_1 (Dense)              (None, 16)                1040      \n",
      "=================================================================\n",
      "Total params: 15,298,640\n",
      "Trainable params: 15,298,640\n",
      "Non-trainable params: 0\n",
      "_________________________________________________________________\n"
     ]
    }
   ],
   "source": [
    "model.summary()"
   ]
  },
  {
   "cell_type": "code",
   "execution_count": 43,
   "metadata": {},
   "outputs": [
    {
     "name": "stdout",
     "output_type": "stream",
     "text": [
      "INFO:tensorflow:Assets written to: ./Model\\assets\n"
     ]
    }
   ],
   "source": [
    "from tensorflow import keras\n",
    "model = keras.models.load_model('model.h5', compile=False) #pb생성\n",
    "\n",
    "export_path = './Model'\n",
    "model.save(export_path, save_format='tf')"
   ]
  },
  {
   "cell_type": "code",
   "execution_count": 56,
   "metadata": {},
   "outputs": [
    {
     "ename": "UnicodeDecodeError",
     "evalue": "'utf-8' codec can't decode byte 0xbe in position 90: invalid start byte",
     "output_type": "error",
     "traceback": [
      "\u001b[1;31m---------------------------------------------------------------------------\u001b[0m",
      "\u001b[1;31mUnicodeDecodeError\u001b[0m                        Traceback (most recent call last)",
      "\u001b[1;32m<ipython-input-56-d20ed76a718e>\u001b[0m in \u001b[0;36m<module>\u001b[1;34m\u001b[0m\n\u001b[0;32m      1\u001b[0m \u001b[0mv\u001b[0m \u001b[1;33m=\u001b[0m \u001b[0mtf\u001b[0m\u001b[1;33m.\u001b[0m\u001b[0mVariable\u001b[0m\u001b[1;33m(\u001b[0m\u001b[1;36m0\u001b[0m\u001b[1;33m,\u001b[0m \u001b[0mname\u001b[0m\u001b[1;33m=\u001b[0m\u001b[1;34m'model.h5'\u001b[0m\u001b[1;33m)\u001b[0m\u001b[1;33m\u001b[0m\u001b[1;33m\u001b[0m\u001b[0m\n\u001b[0;32m      2\u001b[0m \u001b[0msess\u001b[0m \u001b[1;33m=\u001b[0m \u001b[0mtf\u001b[0m\u001b[1;33m.\u001b[0m\u001b[0mcompat\u001b[0m\u001b[1;33m.\u001b[0m\u001b[0mv1\u001b[0m\u001b[1;33m.\u001b[0m\u001b[0mSession\u001b[0m\u001b[1;33m(\u001b[0m\u001b[1;33m)\u001b[0m\u001b[1;33m\u001b[0m\u001b[1;33m\u001b[0m\u001b[0m\n\u001b[1;32m----> 3\u001b[1;33m \u001b[0mtf\u001b[0m\u001b[1;33m.\u001b[0m\u001b[0mio\u001b[0m\u001b[1;33m.\u001b[0m\u001b[0mwrite_graph\u001b[0m\u001b[1;33m(\u001b[0m\u001b[0msess\u001b[0m\u001b[1;33m.\u001b[0m\u001b[0mgraph_def\u001b[0m\u001b[1;33m,\u001b[0m \u001b[1;34m'/.'\u001b[0m\u001b[1;33m,\u001b[0m \u001b[1;34m'train.pbtxt'\u001b[0m\u001b[1;33m,\u001b[0m \u001b[0mas_text\u001b[0m\u001b[1;33m=\u001b[0m\u001b[1;32mTrue\u001b[0m\u001b[1;33m)\u001b[0m\u001b[1;33m\u001b[0m\u001b[1;33m\u001b[0m\u001b[0m\n\u001b[0m",
      "\u001b[1;32mc:\\users\\gram\\appdata\\local\\programs\\python\\python37\\lib\\site-packages\\tensorflow\\python\\framework\\graph_io.py\u001b[0m in \u001b[0;36mwrite_graph\u001b[1;34m(graph_or_graph_def, logdir, name, as_text)\u001b[0m\n\u001b[0;32m     70\u001b[0m     file_io.atomic_write_string_to_file(path,\n\u001b[0;32m     71\u001b[0m                                         text_format.MessageToString(\n\u001b[1;32m---> 72\u001b[1;33m                                             graph_def, float_format=''))\n\u001b[0m\u001b[0;32m     73\u001b[0m   \u001b[1;32melse\u001b[0m\u001b[1;33m:\u001b[0m\u001b[1;33m\u001b[0m\u001b[1;33m\u001b[0m\u001b[0m\n\u001b[0;32m     74\u001b[0m     file_io.atomic_write_string_to_file(\n",
      "\u001b[1;32mc:\\users\\gram\\appdata\\local\\programs\\python\\python37\\lib\\site-packages\\tensorflow\\python\\lib\\io\\file_io.py\u001b[0m in \u001b[0;36matomic_write_string_to_file\u001b[1;34m(filename, contents, overwrite)\u001b[0m\n\u001b[0;32m    566\u001b[0m   \u001b[1;32melse\u001b[0m\u001b[1;33m:\u001b[0m\u001b[1;33m\u001b[0m\u001b[1;33m\u001b[0m\u001b[0m\n\u001b[0;32m    567\u001b[0m     \u001b[0mtemp_pathname\u001b[0m \u001b[1;33m=\u001b[0m \u001b[0mfilename\u001b[0m \u001b[1;33m+\u001b[0m \u001b[1;34m\".tmp\"\u001b[0m \u001b[1;33m+\u001b[0m \u001b[0muuid\u001b[0m\u001b[1;33m.\u001b[0m\u001b[0muuid4\u001b[0m\u001b[1;33m(\u001b[0m\u001b[1;33m)\u001b[0m\u001b[1;33m.\u001b[0m\u001b[0mhex\u001b[0m\u001b[1;33m\u001b[0m\u001b[1;33m\u001b[0m\u001b[0m\n\u001b[1;32m--> 568\u001b[1;33m     \u001b[0mwrite_string_to_file\u001b[0m\u001b[1;33m(\u001b[0m\u001b[0mtemp_pathname\u001b[0m\u001b[1;33m,\u001b[0m \u001b[0mcontents\u001b[0m\u001b[1;33m)\u001b[0m\u001b[1;33m\u001b[0m\u001b[1;33m\u001b[0m\u001b[0m\n\u001b[0m\u001b[0;32m    569\u001b[0m     \u001b[1;32mtry\u001b[0m\u001b[1;33m:\u001b[0m\u001b[1;33m\u001b[0m\u001b[1;33m\u001b[0m\u001b[0m\n\u001b[0;32m    570\u001b[0m       \u001b[0mrename\u001b[0m\u001b[1;33m(\u001b[0m\u001b[0mtemp_pathname\u001b[0m\u001b[1;33m,\u001b[0m \u001b[0mfilename\u001b[0m\u001b[1;33m,\u001b[0m \u001b[0moverwrite\u001b[0m\u001b[1;33m)\u001b[0m\u001b[1;33m\u001b[0m\u001b[1;33m\u001b[0m\u001b[0m\n",
      "\u001b[1;32mc:\\users\\gram\\appdata\\local\\programs\\python\\python37\\lib\\site-packages\\tensorflow\\python\\lib\\io\\file_io.py\u001b[0m in \u001b[0;36mwrite_string_to_file\u001b[1;34m(filename, file_content)\u001b[0m\n\u001b[0;32m    332\u001b[0m   \"\"\"\n\u001b[0;32m    333\u001b[0m   \u001b[1;32mwith\u001b[0m \u001b[0mFileIO\u001b[0m\u001b[1;33m(\u001b[0m\u001b[0mfilename\u001b[0m\u001b[1;33m,\u001b[0m \u001b[0mmode\u001b[0m\u001b[1;33m=\u001b[0m\u001b[1;34m\"w\"\u001b[0m\u001b[1;33m)\u001b[0m \u001b[1;32mas\u001b[0m \u001b[0mf\u001b[0m\u001b[1;33m:\u001b[0m\u001b[1;33m\u001b[0m\u001b[1;33m\u001b[0m\u001b[0m\n\u001b[1;32m--> 334\u001b[1;33m     \u001b[0mf\u001b[0m\u001b[1;33m.\u001b[0m\u001b[0mwrite\u001b[0m\u001b[1;33m(\u001b[0m\u001b[0mfile_content\u001b[0m\u001b[1;33m)\u001b[0m\u001b[1;33m\u001b[0m\u001b[1;33m\u001b[0m\u001b[0m\n\u001b[0m\u001b[0;32m    335\u001b[0m \u001b[1;33m\u001b[0m\u001b[0m\n\u001b[0;32m    336\u001b[0m \u001b[1;33m\u001b[0m\u001b[0m\n",
      "\u001b[1;32mc:\\users\\gram\\appdata\\local\\programs\\python\\python37\\lib\\site-packages\\tensorflow\\python\\lib\\io\\file_io.py\u001b[0m in \u001b[0;36mwrite\u001b[1;34m(self, file_content)\u001b[0m\n\u001b[0;32m     99\u001b[0m   \u001b[1;32mdef\u001b[0m \u001b[0mwrite\u001b[0m\u001b[1;33m(\u001b[0m\u001b[0mself\u001b[0m\u001b[1;33m,\u001b[0m \u001b[0mfile_content\u001b[0m\u001b[1;33m)\u001b[0m\u001b[1;33m:\u001b[0m\u001b[1;33m\u001b[0m\u001b[1;33m\u001b[0m\u001b[0m\n\u001b[0;32m    100\u001b[0m     \u001b[1;34m\"\"\"Writes file_content to the file. Appends to the end of the file.\"\"\"\u001b[0m\u001b[1;33m\u001b[0m\u001b[1;33m\u001b[0m\u001b[0m\n\u001b[1;32m--> 101\u001b[1;33m     \u001b[0mself\u001b[0m\u001b[1;33m.\u001b[0m\u001b[0m_prewrite_check\u001b[0m\u001b[1;33m(\u001b[0m\u001b[1;33m)\u001b[0m\u001b[1;33m\u001b[0m\u001b[1;33m\u001b[0m\u001b[0m\n\u001b[0m\u001b[0;32m    102\u001b[0m     \u001b[0mself\u001b[0m\u001b[1;33m.\u001b[0m\u001b[0m_writable_file\u001b[0m\u001b[1;33m.\u001b[0m\u001b[0mappend\u001b[0m\u001b[1;33m(\u001b[0m\u001b[0mcompat\u001b[0m\u001b[1;33m.\u001b[0m\u001b[0mas_bytes\u001b[0m\u001b[1;33m(\u001b[0m\u001b[0mfile_content\u001b[0m\u001b[1;33m)\u001b[0m\u001b[1;33m)\u001b[0m\u001b[1;33m\u001b[0m\u001b[1;33m\u001b[0m\u001b[0m\n\u001b[0;32m    103\u001b[0m \u001b[1;33m\u001b[0m\u001b[0m\n",
      "\u001b[1;32mc:\\users\\gram\\appdata\\local\\programs\\python\\python37\\lib\\site-packages\\tensorflow\\python\\lib\\io\\file_io.py\u001b[0m in \u001b[0;36m_prewrite_check\u001b[1;34m(self)\u001b[0m\n\u001b[0;32m     85\u001b[0m                                            \"File isn't open for writing\")\n\u001b[0;32m     86\u001b[0m       self._writable_file = _pywrap_file_io.WritableFile(\n\u001b[1;32m---> 87\u001b[1;33m           compat.as_bytes(self.__name), compat.as_bytes(self.__mode))\n\u001b[0m\u001b[0;32m     88\u001b[0m \u001b[1;33m\u001b[0m\u001b[0m\n\u001b[0;32m     89\u001b[0m   \u001b[1;32mdef\u001b[0m \u001b[0m_prepare_value\u001b[0m\u001b[1;33m(\u001b[0m\u001b[0mself\u001b[0m\u001b[1;33m,\u001b[0m \u001b[0mval\u001b[0m\u001b[1;33m)\u001b[0m\u001b[1;33m:\u001b[0m\u001b[1;33m\u001b[0m\u001b[1;33m\u001b[0m\u001b[0m\n",
      "\u001b[1;31mUnicodeDecodeError\u001b[0m: 'utf-8' codec can't decode byte 0xbe in position 90: invalid start byte"
     ]
    }
   ],
   "source": [
    "v = tf.Variable(0, name='model.h5')\n",
    "sess = tf.compat.v1.Session()\n",
    "tf.io.write_graph(sess.graph_def, '/.', 'train.pbtxt', as_text=True)"
   ]
  },
  {
   "cell_type": "code",
   "execution_count": 58,
   "metadata": {},
   "outputs": [
    {
     "ename": "AttributeError",
     "evalue": "'Sequential' object has no attribute 'DESCRIPTOR'",
     "output_type": "error",
     "traceback": [
      "\u001b[1;31m---------------------------------------------------------------------------\u001b[0m",
      "\u001b[1;31mAttributeError\u001b[0m                            Traceback (most recent call last)",
      "\u001b[1;32m<ipython-input-58-8d196c77a2b8>\u001b[0m in \u001b[0;36m<module>\u001b[1;34m\u001b[0m\n\u001b[0;32m      1\u001b[0m \u001b[1;32mfrom\u001b[0m \u001b[0mtensorflow\u001b[0m\u001b[1;33m.\u001b[0m\u001b[0mpython\u001b[0m\u001b[1;33m.\u001b[0m\u001b[0mframework\u001b[0m \u001b[1;32mimport\u001b[0m \u001b[0mgraph_io\u001b[0m\u001b[1;33m\u001b[0m\u001b[1;33m\u001b[0m\u001b[0m\n\u001b[0;32m      2\u001b[0m \u001b[1;33m\u001b[0m\u001b[0m\n\u001b[1;32m----> 3\u001b[1;33m \u001b[0mtf\u001b[0m\u001b[1;33m.\u001b[0m\u001b[0mio\u001b[0m\u001b[1;33m.\u001b[0m\u001b[0mwrite_graph\u001b[0m\u001b[1;33m(\u001b[0m\u001b[0mmodel\u001b[0m\u001b[1;33m,\u001b[0m \u001b[1;34m'./'\u001b[0m\u001b[1;33m,\u001b[0m \u001b[1;34m'graph.pbtxt'\u001b[0m\u001b[1;33m)\u001b[0m\u001b[1;33m\u001b[0m\u001b[1;33m\u001b[0m\u001b[0m\n\u001b[0m",
      "\u001b[1;32mc:\\users\\gram\\appdata\\local\\programs\\python\\python37\\lib\\site-packages\\tensorflow\\python\\framework\\graph_io.py\u001b[0m in \u001b[0;36mwrite_graph\u001b[1;34m(graph_or_graph_def, logdir, name, as_text)\u001b[0m\n\u001b[0;32m     70\u001b[0m     file_io.atomic_write_string_to_file(path,\n\u001b[0;32m     71\u001b[0m                                         text_format.MessageToString(\n\u001b[1;32m---> 72\u001b[1;33m                                             graph_def, float_format=''))\n\u001b[0m\u001b[0;32m     73\u001b[0m   \u001b[1;32melse\u001b[0m\u001b[1;33m:\u001b[0m\u001b[1;33m\u001b[0m\u001b[1;33m\u001b[0m\u001b[0m\n\u001b[0;32m     74\u001b[0m     file_io.atomic_write_string_to_file(\n",
      "\u001b[1;32mc:\\users\\gram\\appdata\\local\\programs\\python\\python37\\lib\\site-packages\\google\\protobuf\\text_format.py\u001b[0m in \u001b[0;36mMessageToString\u001b[1;34m(message, as_utf8, as_one_line, use_short_repeated_primitives, pointy_brackets, use_index_order, float_format, double_format, use_field_number, descriptor_pool, indent, message_formatter, print_unknown_fields, force_colon)\u001b[0m\n\u001b[0;32m    195\u001b[0m       \u001b[0mprint_unknown_fields\u001b[0m\u001b[1;33m=\u001b[0m\u001b[0mprint_unknown_fields\u001b[0m\u001b[1;33m,\u001b[0m\u001b[1;33m\u001b[0m\u001b[1;33m\u001b[0m\u001b[0m\n\u001b[0;32m    196\u001b[0m       force_colon=force_colon)\n\u001b[1;32m--> 197\u001b[1;33m   \u001b[0mprinter\u001b[0m\u001b[1;33m.\u001b[0m\u001b[0mPrintMessage\u001b[0m\u001b[1;33m(\u001b[0m\u001b[0mmessage\u001b[0m\u001b[1;33m)\u001b[0m\u001b[1;33m\u001b[0m\u001b[1;33m\u001b[0m\u001b[0m\n\u001b[0m\u001b[0;32m    198\u001b[0m   \u001b[0mresult\u001b[0m \u001b[1;33m=\u001b[0m \u001b[0mout\u001b[0m\u001b[1;33m.\u001b[0m\u001b[0mgetvalue\u001b[0m\u001b[1;33m(\u001b[0m\u001b[1;33m)\u001b[0m\u001b[1;33m\u001b[0m\u001b[1;33m\u001b[0m\u001b[0m\n\u001b[0;32m    199\u001b[0m   \u001b[0mout\u001b[0m\u001b[1;33m.\u001b[0m\u001b[0mclose\u001b[0m\u001b[1;33m(\u001b[0m\u001b[1;33m)\u001b[0m\u001b[1;33m\u001b[0m\u001b[1;33m\u001b[0m\u001b[0m\n",
      "\u001b[1;32mc:\\users\\gram\\appdata\\local\\programs\\python\\python37\\lib\\site-packages\\google\\protobuf\\text_format.py\u001b[0m in \u001b[0;36mPrintMessage\u001b[1;34m(self, message)\u001b[0m\n\u001b[0;32m    436\u001b[0m     \u001b[1;32mif\u001b[0m \u001b[0mself\u001b[0m\u001b[1;33m.\u001b[0m\u001b[0mmessage_formatter\u001b[0m \u001b[1;32mand\u001b[0m \u001b[0mself\u001b[0m\u001b[1;33m.\u001b[0m\u001b[0m_TryCustomFormatMessage\u001b[0m\u001b[1;33m(\u001b[0m\u001b[0mmessage\u001b[0m\u001b[1;33m)\u001b[0m\u001b[1;33m:\u001b[0m\u001b[1;33m\u001b[0m\u001b[1;33m\u001b[0m\u001b[0m\n\u001b[0;32m    437\u001b[0m       \u001b[1;32mreturn\u001b[0m\u001b[1;33m\u001b[0m\u001b[1;33m\u001b[0m\u001b[0m\n\u001b[1;32m--> 438\u001b[1;33m     if (message.DESCRIPTOR.full_name == _ANY_FULL_TYPE_NAME and\n\u001b[0m\u001b[0;32m    439\u001b[0m         self._TryPrintAsAnyMessage(message)):\n\u001b[0;32m    440\u001b[0m       \u001b[1;32mreturn\u001b[0m\u001b[1;33m\u001b[0m\u001b[1;33m\u001b[0m\u001b[0m\n",
      "\u001b[1;31mAttributeError\u001b[0m: 'Sequential' object has no attribute 'DESCRIPTOR'"
     ]
    }
   ],
   "source": [
    "from tensorflow.python.framework import graph_io\n",
    "\n",
    "tf.io.write_graph(model, './', 'graph.pbtxt')"
   ]
  },
  {
   "cell_type": "code",
   "execution_count": 48,
   "metadata": {},
   "outputs": [
    {
     "ename": "AttributeError",
     "evalue": "module 'tensorflow._api.v2.graph_util' has no attribute 'convert_variables_to_constants'",
     "output_type": "error",
     "traceback": [
      "\u001b[1;31m---------------------------------------------------------------------------\u001b[0m",
      "\u001b[1;31mAttributeError\u001b[0m                            Traceback (most recent call last)",
      "\u001b[1;32m<ipython-input-48-aa67a57cd8a9>\u001b[0m in \u001b[0;36m<module>\u001b[1;34m\u001b[0m\n\u001b[0;32m      1\u001b[0m \u001b[1;32mfrom\u001b[0m \u001b[0mtensorflow\u001b[0m\u001b[1;33m.\u001b[0m\u001b[0mpython\u001b[0m\u001b[1;33m.\u001b[0m\u001b[0mframework\u001b[0m \u001b[1;32mimport\u001b[0m \u001b[0mgraph_io\u001b[0m\u001b[1;33m\u001b[0m\u001b[1;33m\u001b[0m\u001b[0m\n\u001b[0;32m      2\u001b[0m \u001b[1;33m\u001b[0m\u001b[0m\n\u001b[1;32m----> 3\u001b[1;33m \u001b[0mfrozen\u001b[0m \u001b[1;33m=\u001b[0m \u001b[0mtf\u001b[0m\u001b[1;33m.\u001b[0m\u001b[0mgraph_util\u001b[0m\u001b[1;33m.\u001b[0m\u001b[0mconvert_variables_to_constants\u001b[0m\u001b[1;33m(\u001b[0m\u001b[0msess\u001b[0m\u001b[1;33m,\u001b[0m \u001b[0msess\u001b[0m\u001b[1;33m.\u001b[0m\u001b[0mgraph_def\u001b[0m\u001b[1;33m,\u001b[0m \u001b[1;33m[\u001b[0m\u001b[1;34m\"output_node_name\"\u001b[0m\u001b[1;33m]\u001b[0m\u001b[1;33m)\u001b[0m\u001b[1;33m\u001b[0m\u001b[1;33m\u001b[0m\u001b[0m\n\u001b[0m\u001b[0;32m      4\u001b[0m \u001b[0mgraph_io\u001b[0m\u001b[1;33m.\u001b[0m\u001b[0mwrite_graph\u001b[0m\u001b[1;33m(\u001b[0m\u001b[0mfrozen\u001b[0m\u001b[1;33m,\u001b[0m \u001b[1;34m'./'\u001b[0m\u001b[1;33m,\u001b[0m \u001b[1;34m'graph.pb'\u001b[0m\u001b[1;33m,\u001b[0m \u001b[0mas_text\u001b[0m\u001b[1;33m=\u001b[0m\u001b[1;32mFalse\u001b[0m\u001b[1;33m)\u001b[0m\u001b[1;33m\u001b[0m\u001b[1;33m\u001b[0m\u001b[0m\n",
      "\u001b[1;31mAttributeError\u001b[0m: module 'tensorflow._api.v2.graph_util' has no attribute 'convert_variables_to_constants'"
     ]
    }
   ],
   "source": [
    "from tensorflow.python.framework import graph_io\n",
    "\n",
    "frozen = tf.graph_util.convert_variables_to_constants(sess, sess.graph_def, [\"output_node_name\"])\n",
    "graph_io.write_graph(frozen, './', 'graph.pb', as_text=False)"
   ]
  },
  {
   "cell_type": "code",
   "execution_count": null,
   "metadata": {},
   "outputs": [],
   "source": []
  }
 ],
 "metadata": {
  "kernelspec": {
   "display_name": "Python 3",
   "language": "python",
   "name": "python3"
  },
  "language_info": {
   "codemirror_mode": {
    "name": "ipython",
    "version": 3
   },
   "file_extension": ".py",
   "mimetype": "text/x-python",
   "name": "python",
   "nbconvert_exporter": "python",
   "pygments_lexer": "ipython3",
   "version": "3.7.9"
  }
 },
 "nbformat": 4,
 "nbformat_minor": 4
}
